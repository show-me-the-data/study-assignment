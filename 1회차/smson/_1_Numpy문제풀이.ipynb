{
  "nbformat": 4,
  "nbformat_minor": 0,
  "metadata": {
    "colab": {
      "name": "#1 Numpy문제풀이.ipynb",
      "provenance": []
    },
    "kernelspec": {
      "name": "python3",
      "display_name": "Python 3"
    },
    "language_info": {
      "name": "python"
    }
  },
  "cells": [
    {
      "cell_type": "code",
      "metadata": {
        "id": "YbRZiuUHwZE3"
      },
      "source": [
        "class Greeter(object):\n",
        "\n",
        "    # Constructor\n",
        "    def __init__(self, name):\n",
        "        self.name = name  # Create an instance variable\n",
        "\n",
        "    # Instance method\n",
        "    def greet(self, loud=False):\n",
        "        if loud:\n",
        "            print('HELLO, %s!' % self.name.upper())\n",
        "        else:\n",
        "            print('Hello, %s' % self.name)\n",
        "  \n",
        "class Child(Greeter):\n",
        "    def __init__(self, name):\n",
        "      Greeter.__init__(self,name)\n",
        "      print(name + \"나는 지식입니다.\")"
      ],
      "execution_count": null,
      "outputs": []
    },
    {
      "cell_type": "code",
      "metadata": {
        "colab": {
          "base_uri": "https://localhost:8080/",
          "height": 36
        },
        "id": "J_eBXJry0HFG",
        "outputId": "509440f0-9afe-4081-b891-7b90f29b7053"
      },
      "source": [
        "a = Greeter(\"test\")\n",
        "a.name"
      ],
      "execution_count": null,
      "outputs": [
        {
          "output_type": "execute_result",
          "data": {
            "application/vnd.google.colaboratory.intrinsic+json": {
              "type": "string"
            },
            "text/plain": [
              "'test'"
            ]
          },
          "metadata": {
            "tags": []
          },
          "execution_count": 2
        }
      ]
    },
    {
      "cell_type": "code",
      "metadata": {
        "colab": {
          "base_uri": "https://localhost:8080/"
        },
        "id": "hF_KPSs80JNO",
        "outputId": "095c34e9-da66-461d-c503-70c94456badc"
      },
      "source": [
        "c = Child(\"테스트\")\n",
        "c.greet"
      ],
      "execution_count": null,
      "outputs": [
        {
          "output_type": "stream",
          "text": [
            "테스트나는 지식입니다.\n"
          ],
          "name": "stdout"
        },
        {
          "output_type": "execute_result",
          "data": {
            "text/plain": [
              "<bound method Greeter.greet of <__main__.Child object at 0x7fdeb7d2e450>>"
            ]
          },
          "metadata": {
            "tags": []
          },
          "execution_count": 3
        }
      ]
    },
    {
      "cell_type": "code",
      "metadata": {
        "id": "MEVoxAa331Gm"
      },
      "source": [
        "import numpy as np"
      ],
      "execution_count": null,
      "outputs": []
    },
    {
      "cell_type": "code",
      "metadata": {
        "colab": {
          "base_uri": "https://localhost:8080/"
        },
        "id": "hDMLaG5NwBeG",
        "outputId": "942d42f8-8bf4-4013-8f11-3005ff225485"
      },
      "source": [
        "a = np.array([0,1,2,3])\n",
        "print(np.all(a))   # 모든 값이 0 0 아닐 때 True\n",
        "print(np.all(a>1)) # all 모든 조건이 맞을 때 True"
      ],
      "execution_count": null,
      "outputs": [
        {
          "output_type": "stream",
          "text": [
            "False\n",
            "False\n"
          ],
          "name": "stdout"
        }
      ]
    },
    {
      "cell_type": "code",
      "metadata": {
        "colab": {
          "base_uri": "https://localhost:8080/"
        },
        "id": "FaWYyRadwe0-",
        "outputId": "2740bf8a-11f0-4925-9645-c4eca32d1599"
      },
      "source": [
        "print(np.any(a))  # 0 아닌 값이 1개라도 있으면 True\n",
        "print(np.any(a>2)) # 조건에 부합하는 값이 1개라도 있으면 True"
      ],
      "execution_count": null,
      "outputs": [
        {
          "output_type": "stream",
          "text": [
            "True\n",
            "True\n"
          ],
          "name": "stdout"
        }
      ]
    },
    {
      "cell_type": "code",
      "metadata": {
        "colab": {
          "base_uri": "https://localhost:8080/"
        },
        "id": "x9BhfPdBwz3O",
        "outputId": "85c536d8-2cfe-4d1f-b68a-6cb2f9822fd3"
      },
      "source": [
        "b = np.array([1, 0, np.nan, np.inf])\n",
        "print(np.isnan(b))    # 넘파이 통해 nan 을 찾아내는법 / nan 숫자가 아닌 값 누락값이 왜 발생하는가?"
      ],
      "execution_count": null,
      "outputs": [
        {
          "output_type": "stream",
          "text": [
            "[False False  True False]\n"
          ],
          "name": "stdout"
        }
      ]
    },
    {
      "cell_type": "code",
      "metadata": {
        "colab": {
          "base_uri": "https://localhost:8080/"
        },
        "id": "B182FvzTzcF3",
        "outputId": "e3adc1e2-c71f-4da6-e711-d6df30d660b1"
      },
      "source": [
        "c = np.array([1+1j, 1+0j, 4.5, 3, 2, 2j])\n",
        "print(np.iscomplex(c))    # 복소수 판별법\n",
        "print(np.isreal(c))   # 실수 판별법"
      ],
      "execution_count": null,
      "outputs": [
        {
          "output_type": "stream",
          "text": [
            "[ True False False False False  True]\n",
            "[False  True  True  True  True False]\n"
          ],
          "name": "stdout"
        }
      ]
    },
    {
      "cell_type": "code",
      "metadata": {
        "colab": {
          "base_uri": "https://localhost:8080/"
        },
        "id": "rVW_-OoLz2-l",
        "outputId": "f586858f-bec2-4224-f4c4-79953419898b"
      },
      "source": [
        "# print(np.allclose([1.0, np.nan], [1.0, np.nan], equal_nan=True))\n",
        "# print(np.allclose([1e10,1e-8], [1.00001e10,1e-9]))\n",
        "# print(np.allclose([1e10,1e-8], [1.0001e10,1e-9]))\n",
        "a1 = np.array([1,3,4,5,7])\n",
        "a2 = np.array([1,3,4,5,7])\n",
        "a3 = np.array([1,3,4.00001,5,7])\n",
        "# np.allclose(a2, a3, rtol=1e-05, atol=1e-08, equal_nan=False)\n",
        "# np.allclose(a1,a3, equal_nan=True) # allclose는 매우 작은 양의 공차는 오차로 인정\n",
        "np.array_equal(a1,a3)          # array_equal 완전히 같아야"
      ],
      "execution_count": null,
      "outputs": [
        {
          "output_type": "execute_result",
          "data": {
            "text/plain": [
              "False"
            ]
          },
          "metadata": {
            "tags": []
          },
          "execution_count": 9
        }
      ]
    },
    {
      "cell_type": "code",
      "metadata": {
        "colab": {
          "base_uri": "https://localhost:8080/"
        },
        "id": "mHpvGCMI1FtS",
        "outputId": "1187f414-4d61-41eb-b79f-aa405162cfe6"
      },
      "source": [
        "one = np.ones(10)*7\n",
        "print(one)"
      ],
      "execution_count": null,
      "outputs": [
        {
          "output_type": "stream",
          "text": [
            "[7. 7. 7. 7. 7. 7. 7. 7. 7. 7.]\n"
          ],
          "name": "stdout"
        }
      ]
    },
    {
      "cell_type": "code",
      "metadata": {
        "colab": {
          "base_uri": "https://localhost:8080/"
        },
        "id": "6Uv4V1NU6Nbg",
        "outputId": "f1b484be-b6fb-406d-d1db-2cae3d6dbcc7"
      },
      "source": [
        "e = np.identity(2)   #단위행렬 생성\n",
        "print(e)"
      ],
      "execution_count": null,
      "outputs": [
        {
          "output_type": "stream",
          "text": [
            "[[1. 0.]\n",
            " [0. 1.]]\n"
          ],
          "name": "stdout"
        }
      ]
    },
    {
      "cell_type": "code",
      "metadata": {
        "colab": {
          "base_uri": "https://localhost:8080/"
        },
        "id": "FVcWY9bW6qkS",
        "outputId": "10f4ab36-d5f3-489e-aec3-4f46e0040d5b"
      },
      "source": [
        "rand_num = np.random.normal(0,1,5)   # 평균 0 표준편차 1에서 랜덤 5개 표본 추출 \n",
        "print(rand_num)"
      ],
      "execution_count": null,
      "outputs": [
        {
          "output_type": "stream",
          "text": [
            "[ 1.62992607  0.0103201  -0.55226461 -0.81359486  0.73117342]\n"
          ],
          "name": "stdout"
        }
      ]
    },
    {
      "cell_type": "code",
      "metadata": {
        "id": "n2Qw_cLy6u-M",
        "colab": {
          "base_uri": "https://localhost:8080/"
        },
        "outputId": "cf192fc6-fa80-4252-8216-1d4bcef8a3ba"
      },
      "source": [
        "f= np.arange(30,71,2)\n",
        "print(f)"
      ],
      "execution_count": null,
      "outputs": [
        {
          "output_type": "stream",
          "text": [
            "[30 32 34 36 38 40 42 44 46 48 50 52 54 56 58 60 62 64 66 68 70]\n"
          ],
          "name": "stdout"
        }
      ]
    },
    {
      "cell_type": "code",
      "metadata": {
        "colab": {
          "base_uri": "https://localhost:8080/"
        },
        "id": "SgG4ky12bGeS",
        "outputId": "cd905aa3-cc1a-4685-8c74-a8b7510ecc0e"
      },
      "source": [
        "f = np.arange(1,13).reshape(3,4)\n",
        "for i in np.nditer(f):\n",
        "  print(i, end=\" \")"
      ],
      "execution_count": null,
      "outputs": [
        {
          "output_type": "stream",
          "text": [
            "1 2 3 4 5 6 7 8 9 10 11 12 "
          ],
          "name": "stdout"
        }
      ]
    },
    {
      "cell_type": "code",
      "metadata": {
        "colab": {
          "base_uri": "https://localhost:8080/"
        },
        "id": "C0t18GoCbSvv",
        "outputId": "02689bc8-c30b-45da-f420-c5523bf5b038"
      },
      "source": [
        "# 22번 \n",
        "a = np.arange(21)\n",
        "print(a)\n",
        "a[(a >= 9) &(a <= 15)] *= -1  \n",
        "print(a)"
      ],
      "execution_count": null,
      "outputs": [
        {
          "output_type": "stream",
          "text": [
            "[ 0  1  2  3  4  5  6  7  8  9 10 11 12 13 14 15 16 17 18 19 20]\n",
            "[  0   1   2   3   4   5   6   7   8  -9 -10 -11 -12 -13 -14 -15  16  17\n",
            "  18  19  20]\n"
          ],
          "name": "stdout"
        }
      ]
    },
    {
      "cell_type": "code",
      "metadata": {
        "colab": {
          "base_uri": "https://localhost:8080/"
        },
        "id": "AZ-pLw_6ckb8",
        "outputId": "86482db3-d904-494a-f0a6-f7f427ac81f6"
      },
      "source": [
        "#랜덤으로 픽 \n",
        "a = np.random.randint(0,11,5)\n",
        "print(a)"
      ],
      "execution_count": null,
      "outputs": [
        {
          "output_type": "stream",
          "text": [
            "[ 6  1  9 10  6]\n"
          ],
          "name": "stdout"
        }
      ]
    },
    {
      "cell_type": "code",
      "metadata": {
        "colab": {
          "base_uri": "https://localhost:8080/"
        },
        "id": "kdfXoPgFcv1d",
        "outputId": "fab39c05-9e7a-4ba5-c436-4081082ae3ef"
      },
      "source": [
        "# 그냥 값끼리 곱\n",
        "a = np.array([1,2,3,4])\n",
        "b = np.random.randint(0,11,4)\n",
        "print(a)\n",
        "print(b)\n",
        "print(a*b)"
      ],
      "execution_count": null,
      "outputs": [
        {
          "output_type": "stream",
          "text": [
            "[1 2 3 4]\n",
            "[ 0 10  0  2]\n",
            "[ 0 20  0  8]\n"
          ],
          "name": "stdout"
        }
      ]
    },
    {
      "cell_type": "code",
      "metadata": {
        "colab": {
          "base_uri": "https://localhost:8080/"
        },
        "id": "ozZh0qqsdb2j",
        "outputId": "14242f36-b28b-451b-e269-fe917b7dc497"
      },
      "source": [
        "a = np.arange(10,22).reshape(3,4)\n",
        "print(a)"
      ],
      "execution_count": null,
      "outputs": [
        {
          "output_type": "stream",
          "text": [
            "[[10 11 12 13]\n",
            " [14 15 16 17]\n",
            " [18 19 20 21]]\n"
          ],
          "name": "stdout"
        }
      ]
    },
    {
      "cell_type": "code",
      "metadata": {
        "id": "jQyIaZ85d1TI",
        "colab": {
          "base_uri": "https://localhost:8080/"
        },
        "outputId": "9efa7d8d-862e-4ac0-9cda-a800a3facb44"
      },
      "source": [
        "a = np.ones((10,10))\n",
        "print(a)\n",
        "a[1:-1,1:-1] = 0\n",
        "print(a)"
      ],
      "execution_count": null,
      "outputs": [
        {
          "output_type": "stream",
          "text": [
            "[[1. 1. 1. 1. 1. 1. 1. 1. 1. 1.]\n",
            " [1. 1. 1. 1. 1. 1. 1. 1. 1. 1.]\n",
            " [1. 1. 1. 1. 1. 1. 1. 1. 1. 1.]\n",
            " [1. 1. 1. 1. 1. 1. 1. 1. 1. 1.]\n",
            " [1. 1. 1. 1. 1. 1. 1. 1. 1. 1.]\n",
            " [1. 1. 1. 1. 1. 1. 1. 1. 1. 1.]\n",
            " [1. 1. 1. 1. 1. 1. 1. 1. 1. 1.]\n",
            " [1. 1. 1. 1. 1. 1. 1. 1. 1. 1.]\n",
            " [1. 1. 1. 1. 1. 1. 1. 1. 1. 1.]\n",
            " [1. 1. 1. 1. 1. 1. 1. 1. 1. 1.]]\n",
            "[[1. 1. 1. 1. 1. 1. 1. 1. 1. 1.]\n",
            " [1. 0. 0. 0. 0. 0. 0. 0. 0. 1.]\n",
            " [1. 0. 0. 0. 0. 0. 0. 0. 0. 1.]\n",
            " [1. 0. 0. 0. 0. 0. 0. 0. 0. 1.]\n",
            " [1. 0. 0. 0. 0. 0. 0. 0. 0. 1.]\n",
            " [1. 0. 0. 0. 0. 0. 0. 0. 0. 1.]\n",
            " [1. 0. 0. 0. 0. 0. 0. 0. 0. 1.]\n",
            " [1. 0. 0. 0. 0. 0. 0. 0. 0. 1.]\n",
            " [1. 0. 0. 0. 0. 0. 0. 0. 0. 1.]\n",
            " [1. 1. 1. 1. 1. 1. 1. 1. 1. 1.]]\n"
          ],
          "name": "stdout"
        }
      ]
    },
    {
      "cell_type": "code",
      "metadata": {
        "colab": {
          "base_uri": "https://localhost:8080/"
        },
        "id": "lCvjFt8RhRiM",
        "outputId": "544c391b-d8e0-4f14-ec47-4a1438843c03"
      },
      "source": [
        "x = np.diag([1,2,3,4])\n",
        "print(x)"
      ],
      "execution_count": null,
      "outputs": [
        {
          "output_type": "stream",
          "text": [
            "[[1 0 0 0]\n",
            " [0 2 0 0]\n",
            " [0 0 3 0]\n",
            " [0 0 0 4]]\n"
          ],
          "name": "stdout"
        }
      ]
    },
    {
      "cell_type": "code",
      "metadata": {
        "colab": {
          "base_uri": "https://localhost:8080/"
        },
        "id": "BAIYp-nkhr2V",
        "outputId": "36d4ada6-332c-4c5a-981b-87d604c25104"
      },
      "source": [
        "c = np.zeros((4,4))\n",
        "print(c)\n",
        "c[::2,1::2]=1\n",
        "c[1::2,::2]=1\n",
        "print(c)\n"
      ],
      "execution_count": null,
      "outputs": [
        {
          "output_type": "stream",
          "text": [
            "[[0. 0. 0. 0.]\n",
            " [0. 0. 0. 0.]\n",
            " [0. 0. 0. 0.]\n",
            " [0. 0. 0. 0.]]\n",
            "[[0. 1. 0. 1.]\n",
            " [1. 0. 1. 0.]\n",
            " [0. 1. 0. 1.]\n",
            " [1. 0. 1. 0.]]\n"
          ],
          "name": "stdout"
        }
      ]
    },
    {
      "cell_type": "code",
      "metadata": {
        "colab": {
          "base_uri": "https://localhost:8080/"
        },
        "id": "26j4a22tkfCD",
        "outputId": "2da33f30-e9a2-40ea-bc2f-dc27725fbef9"
      },
      "source": [
        "m = np.array([[1,2,3], [4,5,6], [7,8,9], [10, 11, 12]])\n",
        "v = np.array([1, 1, 0])\n",
        "print(m+v)"
      ],
      "execution_count": null,
      "outputs": [
        {
          "output_type": "stream",
          "text": [
            "[[ 2  3  3]\n",
            " [ 5  6  6]\n",
            " [ 8  9  9]\n",
            " [11 12 12]]\n"
          ],
          "name": "stdout"
        }
      ]
    },
    {
      "cell_type": "code",
      "metadata": {
        "id": "qz_0KMN1ljpj"
      },
      "source": [
        "# 35번 ?"
      ],
      "execution_count": null,
      "outputs": []
    }
  ]
}