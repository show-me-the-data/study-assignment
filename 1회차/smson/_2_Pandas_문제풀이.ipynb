{
  "nbformat": 4,
  "nbformat_minor": 0,
  "metadata": {
    "colab": {
      "name": "#2 Pandas 문제풀이.ipynb",
      "provenance": []
    },
    "kernelspec": {
      "name": "python3",
      "display_name": "Python 3"
    },
    "language_info": {
      "name": "python"
    }
  },
  "cells": [
    {
      "cell_type": "code",
      "metadata": {
        "id": "w_bmKc727_SV"
      },
      "source": [
        "import pandas as pd\n",
        "df = {'X':[78,85,96,80,86], 'Y':[84,94,89,83,86],'Z':[86,97,96,72,83]}\n",
        "print(pd.DataFrame(df))"
      ],
      "execution_count": null,
      "outputs": []
    },
    {
      "cell_type": "code",
      "metadata": {
        "id": "MBsXgvl69Ldw"
      },
      "source": [
        "import pandas as pd\n",
        "import numpy as np\n",
        "exam_data = {'attempts': [1, 3, 2, 3, 2, 3, 1, 1, 2, 1],\n",
        "    'name': ['Anastasia', 'Dima', 'Katherine', 'James', 'Emily', 'Michael', 'Matthew', 'Laura', 'Kevin', 'Jonas'],\n",
        "'qualify': ['yes', 'no', 'yes', 'no', 'no', 'yes', 'yes', 'no', 'no', 'yes'],\n",
        "'score': [12.5, 9, 16.5, np.nan, 9, 20, 14.5, np.nan, 8, 19]}\n",
        "labels = ['a', 'b', 'c', 'd', 'e', 'f', 'g', 'h', 'i', 'j']\n",
        "a=pd.DataFrame(exam_data, index=labels)\n",
        "print(a)"
      ],
      "execution_count": null,
      "outputs": []
    },
    {
      "cell_type": "code",
      "metadata": {
        "id": "m-j1BA5i9Mjg"
      },
      "source": [
        "# 특정 칼럼만 뽑아내기\n",
        "import pandas as pd\n",
        "import numpy as np\n",
        "exam_data = {'attempts': [1, 3, 2, 3, 2, 3, 1, 1, 2, 1],\n",
        "    'name': ['Anastasia', 'Dima', 'Katherine', 'James', 'Emily', 'Michael', 'Matthew', 'Laura', 'Kevin', 'Jonas'],\n",
        "'qualify': ['yes', 'no', 'yes', 'no', 'no', 'yes', 'yes', 'no', 'no', 'yes'],\n",
        "'score': [12.5, 9, 16.5, np.nan, 9, 20, 14.5, np.nan, 8, 19]}\n",
        "labels = ['a', 'b', 'c', 'd', 'e', 'f', 'g', 'h', 'i', 'j']\n",
        "df=pd.DataFrame(exam_data, index=labels)\n",
        "print(df[['name','score']])"
      ],
      "execution_count": null,
      "outputs": []
    },
    {
      "cell_type": "code",
      "metadata": {
        "id": "Q-8_NAPPHnw1"
      },
      "source": [
        "import pandas as pd\n",
        "import numpy as np\n",
        "exam_data = {'attempts': [1, 3, 2, 3, 2, 3, 1, 1, 2, 1],\n",
        "    'name': ['Anastasia', 'Dima', 'Katherine', 'James', 'Emily', 'Michael', 'Matthew', 'Laura', 'Kevin', 'Jonas'],\n",
        "'qualify': ['yes', 'no', 'yes', 'no', 'no', 'yes', 'yes', 'no', 'no', 'yes'],\n",
        "'score': [12.5, 9, 16.5, np.nan, 9, 20, 14.5, np.nan, 8, 19]}\n",
        "labels = ['a', 'b', 'c', 'd', 'e', 'f', 'g', 'h', 'i', 'j']\n",
        "df=pd.DataFrame(exam_data, index=labels)\n",
        "print(df[df['attempts']>2])           # 칼럼에서 특정 값보다 큰거 뽑아내기\n",
        "print(len(df.axes[0]))          # 로우방향으로 길이 구하기( 데이터숫자)\n",
        "print(df.axes[1])    # 컬럼 방향으로 구하기 "
      ],
      "execution_count": null,
      "outputs": []
    },
    {
      "cell_type": "code",
      "metadata": {
        "id": "PASDKgaaJD4k"
      },
      "source": [
        "# NAN 있는 로우 데이터 뽑기\n",
        "print(df[df['score'].isnull()])\n",
        "\n",
        "# 특정 range 안에 데이터 뽑기\n",
        "# print(df[15 <= df['score']<=20])  이렇게는 인식 x\n",
        "print(df[df['score'].between(15,20)])\n",
        "\n",
        "# print(df[ df['attempts'] <2 and df['score'] > 15 ])  오답\n",
        "print( df[ ( df['attempts'] <2  ) & ( df['score'] > 15 ) ] )   #괄호랑 and 대신 & 만 됌."
      ],
      "execution_count": null,
      "outputs": []
    },
    {
      "cell_type": "code",
      "metadata": {
        "id": "IKJTGTQiK5rY"
      },
      "source": [
        "df.loc['d','score'] = 11.5\n",
        "print(df)\n",
        "print(df['attempts'].sum())\n",
        "print(df['score'].mean())"
      ],
      "execution_count": null,
      "outputs": []
    },
    {
      "cell_type": "code",
      "metadata": {
        "colab": {
          "base_uri": "https://localhost:8080/"
        },
        "id": "OyCPyTQCUtyH",
        "outputId": "684b2e98-6cd6-4365-8d88-6dd5e4b425ca"
      },
      "source": [
        "exam_data = {'attempts': [1, 3, 2, 3, 2, 3, 1, 1, 2, 1],\n",
        "    'name': ['Anastasia', 'Dima', 'Katherine', 'James', 'Emily', 'Michael', 'Matthew', 'Laura', 'Kevin', 'Jonas'],\n",
        "'qualify': ['yes', 'no', 'yes', 'no', 'no', 'yes', 'yes', 'no', 'no', 'yes'],\n",
        "'score': [12.5, 9, 16.5, np.nan, 9, 20, 14.5, np.nan, 8, 19]}\n",
        "labels = ['a', 'b', 'c', 'd', 'e', 'f', 'g', 'h', 'i', 'j']\n",
        "df=pd.DataFrame(exam_data, index=labels)\n",
        "print(df['attempts'].sum())\n",
        "print(df['score'].mean())"
      ],
      "execution_count": null,
      "outputs": [
        {
          "output_type": "stream",
          "text": [
            "19\n",
            "13.5625\n"
          ],
          "name": "stdout"
        }
      ]
    },
    {
      "cell_type": "code",
      "metadata": {
        "id": "QICujVLQUzLa"
      },
      "source": [
        "df.loc['k'] = [1, 'Suresh', 'yes', 15.5 ]\n",
        "print(df)\n",
        "df = df.drop(\"k\")\n",
        "print(df)"
      ],
      "execution_count": null,
      "outputs": []
    },
    {
      "cell_type": "code",
      "metadata": {
        "id": "WGvg9T8WZNDW"
      },
      "source": [
        ""
      ],
      "execution_count": null,
      "outputs": []
    },
    {
      "cell_type": "code",
      "metadata": {
        "id": "ClYFBe4DZM-d"
      },
      "source": [
        ""
      ],
      "execution_count": null,
      "outputs": []
    }
  ]
}